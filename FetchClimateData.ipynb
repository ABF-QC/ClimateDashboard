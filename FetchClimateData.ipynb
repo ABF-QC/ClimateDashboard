{
 "cells": [
  {
   "cell_type": "markdown",
   "id": "fa40bb86-6cfc-4cb4-b9ec-094859d8fda3",
   "metadata": {},
   "source": [
    "# Retrieving the climate data from various sources"
   ]
  },
  {
   "cell_type": "markdown",
   "id": "ff82403f-c2b6-4236-8708-06d54394e815",
   "metadata": {},
   "source": [
    "<h1> blablabl"
   ]
  },
  {
   "cell_type": "markdown",
   "id": "909e1579-47d3-4165-af28-8aea7920c6f4",
   "metadata": {},
   "source": [
    "### Here is another header"
   ]
  }
 ],
 "metadata": {
  "kernelspec": {
   "display_name": "Python [conda env:base] *",
   "language": "python",
   "name": "conda-base-py"
  },
  "language_info": {
   "codemirror_mode": {
    "name": "ipython",
    "version": 3
   },
   "file_extension": ".py",
   "mimetype": "text/x-python",
   "name": "python",
   "nbconvert_exporter": "python",
   "pygments_lexer": "ipython3",
   "version": "3.12.7"
  }
 },
 "nbformat": 4,
 "nbformat_minor": 5
}
